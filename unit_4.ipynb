{
 "cells": [
  {
   "cell_type": "markdown",
   "id": "081f862d-8b84-4368-bb3c-d34a930bb071",
   "metadata": {},
   "source": [
    "# Pre-trained models for audio classification"
   ]
  },
  {
   "cell_type": "code",
   "execution_count": null,
   "id": "b95bb079-ce51-4dce-8a09-45b78b171b1c",
   "metadata": {},
   "outputs": [],
   "source": [
    "from datasets import load_dataset\n",
    "\n",
    "minds = load_dataset(\"PolyAI/minds14\", name=\"en-AU\", split=\"train\")"
   ]
  },
  {
   "cell_type": "code",
   "execution_count": null,
   "id": "4238491a-5a84-45b7-98b1-380361e2f0fb",
   "metadata": {},
   "outputs": [],
   "source": [
    "from transformers import pipeline\n",
    "\n",
    "classifier = pipeline(\n",
    "    \"audio-classification\",\n",
    "    model=\"anton-l/xtreme_s_xlsr_300m_minds14\",\n",
    ")"
   ]
  },
  {
   "cell_type": "code",
   "execution_count": null,
   "id": "3a5804c1-58d9-4b0a-8758-c64ed7602c10",
   "metadata": {},
   "outputs": [],
   "source": [
    "classifier(minds[0][\"path\"])"
   ]
  },
  {
   "cell_type": "code",
   "execution_count": null,
   "id": "b9b66306-6c00-4a91-80f2-936326bf51f1",
   "metadata": {},
   "outputs": [],
   "source": [
    "speech_commands = load_dataset(\n",
    "    \"speech_commands\", \"v0.02\", split=\"validation\", streaming=True\n",
    ")\n",
    "sample = next(iter(speech_commands))"
   ]
  },
  {
   "cell_type": "code",
   "execution_count": null,
   "id": "7b8936ca-311a-4da8-a4aa-a3bb1d6954a1",
   "metadata": {},
   "outputs": [],
   "source": [
    "classifier = pipeline(\n",
    "    \"audio-classification\", model=\"MIT/ast-finetuned-speech-commands-v2\"\n",
    ")\n",
    "classifier(sample[\"audio\"].copy())"
   ]
  },
  {
   "cell_type": "code",
   "execution_count": null,
   "id": "f3b5cad7-0d66-4abf-ae3e-a1a612bddc8e",
   "metadata": {},
   "outputs": [],
   "source": [
    "from IPython.display import Audio\n",
    "\n",
    "Audio(sample[\"audio\"][\"array\"], rate=sample[\"audio\"][\"sampling_rate\"])"
   ]
  },
  {
   "cell_type": "code",
   "execution_count": null,
   "id": "0b64b011-296b-4b26-971f-ae9fc6ffa4b5",
   "metadata": {},
   "outputs": [],
   "source": [
    "fleurs = load_dataset(\"google/fleurs\", \"all\", split=\"validation\", streaming=True)\n",
    "sample = next(iter(fleurs))"
   ]
  },
  {
   "cell_type": "code",
   "execution_count": null,
   "id": "2f45b2c0-58fc-4617-8dce-7ccce7a90cb4",
   "metadata": {},
   "outputs": [],
   "source": [
    "classifier = pipeline(\n",
    "    \"audio-classification\", model=\"sanchit-gandhi/whisper-medium-fleurs-lang-id\"\n",
    ")"
   ]
  },
  {
   "cell_type": "code",
   "execution_count": null,
   "id": "4a57d80d-e7e7-446a-a2ce-0b41f64a7037",
   "metadata": {},
   "outputs": [],
   "source": [
    "classifier(sample[\"audio\"])"
   ]
  },
  {
   "cell_type": "code",
   "execution_count": null,
   "id": "c9382062-fb7c-48ad-a2a4-b5a2451a1a86",
   "metadata": {},
   "outputs": [],
   "source": [
    "dataset = load_dataset(\"ashraq/esc50\", split=\"train\", streaming=True)\n",
    "audio_sample = next(iter(dataset))[\"audio\"][\"array\"]"
   ]
  },
  {
   "cell_type": "code",
   "execution_count": null,
   "id": "0af55846-fc8a-4eaf-bd77-9fcce6005ec7",
   "metadata": {},
   "outputs": [],
   "source": [
    "candidate_labels = [\"Sound of a dog\", \"Sound of vacuum cleaner\"]"
   ]
  },
  {
   "cell_type": "code",
   "execution_count": null,
   "id": "0c75820e-3e38-4e2a-8043-c04002cb3c27",
   "metadata": {},
   "outputs": [],
   "source": [
    "classifier = pipeline(\n",
    "    task=\"zero-shot-audio-classification\", model=\"laion/clap-htsat-unfused\"\n",
    ")\n",
    "classifier(audio_sample, candidate_labels=candidate_labels)"
   ]
  },
  {
   "cell_type": "code",
   "execution_count": null,
   "id": "b1d80c79-4ddf-4134-8e9d-0aca24d20cd1",
   "metadata": {},
   "outputs": [],
   "source": [
    "Audio(audio_sample, rate=16000)"
   ]
  },
  {
   "cell_type": "markdown",
   "id": "0f056275-0900-4805-a8ab-df5ed7a65909",
   "metadata": {},
   "source": [
    "## Fine tuning a model for music classification"
   ]
  },
  {
   "cell_type": "code",
   "execution_count": null,
   "id": "54a5d8a7-27e4-4b11-8160-fe14e7715484",
   "metadata": {},
   "outputs": [],
   "source": [
    "from datasets import load_dataset"
   ]
  },
  {
   "cell_type": "code",
   "execution_count": null,
   "id": "96229f19-e05c-4bff-8683-3c18f0f0eca3",
   "metadata": {},
   "outputs": [],
   "source": [
    "split = \"train[0:1000]\"\n",
    "\n",
    "gtzan = load_dataset(\"ccmusic-database/chest_falsetto\", split=split)\n",
    "gtzan"
   ]
  },
  {
   "cell_type": "code",
   "execution_count": null,
   "id": "31114985-9a91-43f7-9ae4-5c3d39becbbb",
   "metadata": {},
   "outputs": [],
   "source": [
    "gtzan = gtzan.train_test_split(seed=42, shuffle=True, test_size=0.1)\n",
    "gtzan"
   ]
  },
  {
   "cell_type": "code",
   "execution_count": null,
   "id": "a8522c3e",
   "metadata": {},
   "outputs": [],
   "source": [
    "gtzan[\"train\"][0]"
   ]
  },
  {
   "cell_type": "code",
   "execution_count": null,
   "id": "b4336eff",
   "metadata": {},
   "outputs": [],
   "source": [
    "id2label_fn = gtzan[\"train\"].features[\"label\"].int2str\n",
    "id2label_fn(gtzan[\"train\"][0][\"label\"])"
   ]
  },
  {
   "cell_type": "code",
   "execution_count": null,
   "id": "e684ba76",
   "metadata": {},
   "outputs": [],
   "source": [
    "import gradio as gr\n",
    "\n",
    "\n",
    "def generate_audio():\n",
    "    example = gtzan[\"train\"].shuffle()[0]\n",
    "    audio = example[\"audio\"]\n",
    "    return (\n",
    "        audio[\"sampling_rate\"],\n",
    "        audio[\"array\"],\n",
    "    ), id2label_fn(example[\"label\"])\n",
    "\n",
    "\n",
    "with gr.Blocks() as demo:\n",
    "    with gr.Column():\n",
    "        for _ in range(4):\n",
    "            audio, label = generate_audio()\n",
    "            output = gr.Audio(audio, label=label)\n",
    "\n",
    "demo.launch(debug=True)"
   ]
  },
  {
   "cell_type": "code",
   "execution_count": null,
   "id": "d7bd00b2",
   "metadata": {},
   "outputs": [],
   "source": [
    "from transformers import AutoFeatureExtractor\n",
    "\n",
    "model_id = \"ntu-spml/distilhubert\"\n",
    "feature_extractor = AutoFeatureExtractor.from_pretrained(\n",
    "    model_id, do_normalize=True, return_attention_mask=True\n",
    ")"
   ]
  },
  {
   "cell_type": "code",
   "execution_count": null,
   "id": "1bbfcc89",
   "metadata": {},
   "outputs": [],
   "source": [
    "sampling_rate = feature_extractor.sampling_rate\n",
    "sampling_rate"
   ]
  },
  {
   "cell_type": "code",
   "execution_count": null,
   "id": "a188708b",
   "metadata": {},
   "outputs": [],
   "source": [
    "from datasets import Audio\n",
    "\n",
    "gtzan = gtzan.cast_column(\"audio\", Audio(sampling_rate=sampling_rate))"
   ]
  },
  {
   "cell_type": "code",
   "execution_count": null,
   "id": "145613f3",
   "metadata": {},
   "outputs": [],
   "source": [
    "gtzan[\"train\"][0]"
   ]
  },
  {
   "cell_type": "code",
   "execution_count": null,
   "id": "6ba80c7a",
   "metadata": {},
   "outputs": [],
   "source": [
    "import numpy as np\n",
    "\n",
    "sample = gtzan[\"train\"][0][\"audio\"]\n",
    "\n",
    "print(f\"Mean: {np.mean(sample['array']):.3}, Variance: {np.var(sample['array']):.3}\")"
   ]
  },
  {
   "cell_type": "code",
   "execution_count": null,
   "id": "c6c91701",
   "metadata": {},
   "outputs": [],
   "source": [
    "inputs = feature_extractor(sample[\"array\"], sampling_rate=sample[\"sampling_rate\"])\n",
    "\n",
    "print(f\"inputs keys: {list(inputs.keys())}\")\n",
    "\n",
    "print(\n",
    "    f\"Mean: {np.mean(inputs['input_values']):.3}, Variance: {np.var(inputs['input_values']):.3}\"\n",
    ")"
   ]
  },
  {
   "cell_type": "code",
   "execution_count": null,
   "id": "b16285cb",
   "metadata": {},
   "outputs": [],
   "source": [
    "max_duration = 30.0\n",
    "\n",
    "\n",
    "def preprocess_function(examples):\n",
    "    audio_arrays = [x[\"array\"] for x in examples[\"audio\"]]\n",
    "    inputs = feature_extractor(\n",
    "        audio_arrays,\n",
    "        sampling_rate=feature_extractor.sampling_rate,\n",
    "        max_length=int(feature_extractor.sampling_rate * max_duration),\n",
    "        truncation=True,\n",
    "        return_attention_mask=True,\n",
    "    )\n",
    "    return inputs"
   ]
  },
  {
   "cell_type": "code",
   "execution_count": null,
   "id": "0385733f",
   "metadata": {},
   "outputs": [],
   "source": [
    "gtzan_encoded = gtzan.map(\n",
    "    preprocess_function,\n",
    "    remove_columns=[\"audio\", \"image\"],\n",
    "    batched=True,\n",
    "    batch_size=100,\n",
    "    num_proc=1,\n",
    ")\n",
    "\n",
    "gtzan_encoded"
   ]
  },
  {
   "cell_type": "code",
   "execution_count": null,
   "id": "3ce515d0",
   "metadata": {},
   "outputs": [],
   "source": [
    "gtzan_encoded = gtzan_encoded.rename_column(\"singing_method\", \"label2\")"
   ]
  },
  {
   "cell_type": "code",
   "execution_count": null,
   "id": "c9e6cacb",
   "metadata": {},
   "outputs": [],
   "source": [
    "id2label = {\n",
    "    str(i): id2label_fn(i)\n",
    "    for i in range(len(gtzan_encoded[\"train\"].features[\"label2\"].names))\n",
    "}\n",
    "label2id = {v: k for k, v in id2label.items()}\n",
    "\n"
   ]
  },
  {
   "cell_type": "code",
   "execution_count": null,
   "id": "10bf0bfe",
   "metadata": {},
   "outputs": [],
   "source": [
    "id2label"
   ]
  },
  {
   "cell_type": "code",
   "execution_count": null,
   "id": "5dca0e33",
   "metadata": {},
   "outputs": [],
   "source": [
    "from transformers import AutoModelForAudioClassification\n",
    "\n",
    "num_labels = len(id2label)\n",
    "\n",
    "model = AutoModelForAudioClassification.from_pretrained(\n",
    "    model_id,\n",
    "    num_labels=num_labels,\n",
    "    label2id=label2id,\n",
    "    id2label=id2label,\n",
    ")"
   ]
  },
  {
   "cell_type": "code",
   "execution_count": null,
   "id": "3369183b",
   "metadata": {},
   "outputs": [],
   "source": [
    "from transformers import TrainingArguments\n",
    "\n",
    "model_name = model_id.split(\"/\")[-1]\n",
    "batch_size = 8\n",
    "gradient_accumulation_steps = 1\n",
    "num_train_epochs = 10\n",
    "\n",
    "training_args = TrainingArguments(\n",
    "    f\"{model_name}-finetuned-gtzan\",\n",
    "    evaluation_strategy=\"epoch\",\n",
    "    save_strategy=\"epoch\",\n",
    "    learning_rate=5e-5,\n",
    "    per_device_train_batch_size=batch_size,\n",
    "    gradient_accumulation_steps=gradient_accumulation_steps,\n",
    "    per_device_eval_batch_size=batch_size,\n",
    "    num_train_epochs=num_train_epochs,\n",
    "    warmup_ratio=0.1,\n",
    "    logging_steps=5,\n",
    "    load_best_model_at_end=True,\n",
    "    metric_for_best_model=\"accuracy\",\n",
    "    fp16=False,\n",
    "    push_to_hub=False,\n",
    ")"
   ]
  },
  {
   "cell_type": "code",
   "execution_count": null,
   "id": "bdbc85ca",
   "metadata": {},
   "outputs": [],
   "source": [
    "import evaluate\n",
    "import numpy as np\n",
    "\n",
    "metric = evaluate.load(\"accuracy\")\n",
    "\n",
    "\n",
    "def compute_metrics(eval_pred):\n",
    "    \"\"\"Computes accuracy on a batch of predictions\"\"\"\n",
    "    predictions = np.argmax(eval_pred.predictions, axis=1)\n",
    "    return metric.compute(predictions=predictions, references=eval_pred.label_ids)"
   ]
  },
  {
   "cell_type": "code",
   "execution_count": null,
   "id": "c6e8c324",
   "metadata": {},
   "outputs": [],
   "source": [
    "from transformers import Trainer\n",
    "trainer = Trainer(\n",
    "    model,\n",
    "    training_args,\n",
    "    train_dataset=gtzan_encoded[\"train\"],\n",
    "    eval_dataset=gtzan_encoded[\"test\"],\n",
    "    tokenizer=feature_extractor,\n",
    "    compute_metrics=compute_metrics,\n",
    ")\n",
    "\n",
    "trainer.train()"
   ]
  },
  {
   "cell_type": "markdown",
   "id": "144f67af-3779-4008-8801-7a75e65b2b5a",
   "metadata": {},
   "source": [
    "# Build a demo with Gradio"
   ]
  },
  {
   "cell_type": "code",
   "execution_count": null,
   "id": "9480f9f2-b462-49a0-b4e2-34ec609448a2",
   "metadata": {},
   "outputs": [],
   "source": [
    "from transformers import pipeline\n",
    "\n",
    "model_id = \"sanchit-gandhi/distilhubert-finetuned-gtzan\"\n",
    "pipe = pipeline(\"audio-classification\", model=model_id)"
   ]
  },
  {
   "cell_type": "code",
   "execution_count": null,
   "id": "c9293b91-b3e4-42da-9aff-3b828f87f4ca",
   "metadata": {},
   "outputs": [],
   "source": [
    "def classify_audio(filepath):\n",
    "    preds = pipe(filepath)\n",
    "    outputs = {}\n",
    "    for p in preds:\n",
    "        outputs[p[\"label\"]] = p[\"score\"]\n",
    "    return outputs"
   ]
  },
  {
   "cell_type": "code",
   "execution_count": null,
   "id": "d606d7f3-0b0c-4ffa-b06e-6228394b4c56",
   "metadata": {},
   "outputs": [],
   "source": [
    "import gradio as gr\n",
    "\n",
    "demo = gr.Interface(\n",
    "    fn=classify_audio, inputs=gr.Audio(type=\"filepath\"), outputs=gr.components.Label()\n",
    ")\n",
    "demo.launch(debug=True)"
   ]
  },
  {
   "cell_type": "markdown",
   "id": "e6146329-b7fa-4d07-9916-4cfd251ced06",
   "metadata": {},
   "source": [
    "# Hands on Exercise"
   ]
  },
  {
   "cell_type": "markdown",
   "id": "18041117-46b3-4bae-a9b3-87b7fcb6f6eb",
   "metadata": {},
   "source": [
    "1. fine-tune a Hubert model on any HF Hub model suitable for music classification\n",
    "2. Use marsyas/gtzan dataset to build a classifier\n",
    "3. Achieve accuracy 87%\n",
    "4. Push model to Hub"
   ]
  },
  {
   "cell_type": "code",
   "execution_count": null,
   "id": "f81c962d-f619-4bd5-8fe6-0277c25066c6",
   "metadata": {},
   "outputs": [],
   "source": [
    "model_id = \"dima806/music_genres_classification\"\n",
    "model_name = model_id.split(\"/\")[-1]\n",
    "\n",
    "kwargs = {\n",
    "    \"dataset_tags\": \"marsyas/gtzan\",\n",
    "    \"dataset\": \"GTZAN\",\n",
    "    \"model_name\": f\"{model_name}-finetuned-gtzan\",\n",
    "    \"finetuned_from\": model_id,\n",
    "    \"tasks\": \"audio-classification\",\n",
    "}\n",
    "\n",
    "# trainer.push_to_hub(**kwargs)"
   ]
  },
  {
   "cell_type": "code",
   "execution_count": null,
   "id": "4210b691-ea5a-4b28-b15c-27ef890e1d13",
   "metadata": {},
   "outputs": [],
   "source": []
  },
  {
   "cell_type": "code",
   "execution_count": null,
   "id": "3c3847ae-7fb9-4991-b9ec-ed454ac7cd86",
   "metadata": {},
   "outputs": [],
   "source": []
  }
 ],
 "metadata": {
  "kernelspec": {
   "display_name": "Python 3 (ipykernel)",
   "language": "python",
   "name": "python3"
  },
  "language_info": {
   "codemirror_mode": {
    "name": "ipython",
    "version": 3
   },
   "file_extension": ".py",
   "mimetype": "text/x-python",
   "name": "python",
   "nbconvert_exporter": "python",
   "pygments_lexer": "ipython3",
   "version": "3.11.5"
  }
 },
 "nbformat": 4,
 "nbformat_minor": 5
}
